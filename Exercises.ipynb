{
 "cells": [
  {
   "cell_type": "markdown",
   "metadata": {},
   "source": [
    "#### Exercise 1 - Class Inheritance"
   ]
  },
  {
   "cell_type": "markdown",
   "metadata": {},
   "source": [
    "Create an Employee class that sets an employee's first name, last name, job title, salary, and email. The Employee class should have a class attribute for the raise amount set to 5% (1.05). Create a method that will apply the raise to an employee's salary."
   ]
  },
  {
   "cell_type": "code",
   "execution_count": 1,
   "metadata": {},
   "outputs": [],
   "source": [
    "class Employee:\n",
    "    raise_amt = 1.05\n",
    "    def __init__(self, first, last, job_title, salary, email):\n",
    "        self.first = first.title()\n",
    "        self.last = last.title()\n",
    "        self.job = job_title.title()\n",
    "        self.salary = salary\n",
    "        self.email = email.lower()\n",
    "    \n",
    "    def give_raise(self):\n",
    "        print(f\"Good work, {self.first} {self.last}. You get a raise.\")\n",
    "        return f\"New Salary: ${self.salary * self.raise_amt:.2f}\""
   ]
  },
  {
   "cell_type": "markdown",
   "metadata": {},
   "source": [
    "Create two more classes that inherit from the Employee class. One for Sales and one for Development. Both of these classes will have the same attributes as the Employee.<br>\n",
    "- For the Sales employees, add a phone number attribute on instantiation using the super method. \n",
    "- Create a method on the Sales class that will Send a Follow Up Email. It should take in a customer name and \"send\" aka print a formatted email \"Dear *customer*, Thank you for your interest in our product. Please let me know if you have any questions. My email is *email* or my phone number is *phone number*. Thanks, *full name*\"\n",
    "- Create a method on the Development class called code that will print out \"*full name* is writing code\"."
   ]
  },
  {
   "cell_type": "code",
   "execution_count": 2,
   "metadata": {},
   "outputs": [],
   "source": [
    "class Sales(Employee):\n",
    "    def __init__(self, first, last, job_title, salary, email, phone):\n",
    "        super().__init__(first, last, job_title, salary, email)\n",
    "        self.phone = phone\n",
    "    \n",
    "    def send_follow_up_email(self, first, last):\n",
    "        print(f\"Dear {first.title()} {last.title()}, \\n\\nThank you for your interest in our product. \" +\n",
    "             f\"Please let me know if you have any questions. \\nMy email is {self.email} \" +\n",
    "             f\"or my phone number is {self.phone}.\" +\n",
    "             f\"\\n\\nThanks, {self.first} {self.last}\")\n",
    "\n",
    "        \n",
    "class Development(Employee):\n",
    "    def code(self):\n",
    "        print(f'{self.first} {self.last} has written \"Hello World\"! Good job!')"
   ]
  },
  {
   "cell_type": "markdown",
   "metadata": {},
   "source": [
    "- Create an instance of a Sales Employee with a salary of $50,000.\n",
    "- Send follow up emails to \"Mike O'Neil\" and \"Hannah Stern\"\n",
    "- Give the employee a raise and print the salary"
   ]
  },
  {
   "cell_type": "code",
   "execution_count": 3,
   "metadata": {},
   "outputs": [
    {
     "name": "stdout",
     "output_type": "stream",
     "text": [
      "Dear Donovan Duck, \n",
      "\n",
      "Thank you for your interest in our product. Please let me know if you have any questions. \n",
      "My email is themouse@thisknee.com or my phone number is (555)555-5555.\n",
      "\n",
      "Thanks, Michael Mouse\n",
      "========================================\n",
      "Dear Mike O'Neil, \n",
      "\n",
      "Thank you for your interest in our product. Please let me know if you have any questions. \n",
      "My email is themouse@thisknee.com or my phone number is (555)555-5555.\n",
      "\n",
      "Thanks, Michael Mouse\n",
      "========================================\n",
      "Dear Hannah Stern, \n",
      "\n",
      "Thank you for your interest in our product. Please let me know if you have any questions. \n",
      "My email is themouse@thisknee.com or my phone number is (555)555-5555.\n",
      "\n",
      "Thanks, Michael Mouse\n",
      "========================================\n",
      "Good work, Michael Mouse. You get a raise.\n",
      "New Salary: $52500.00\n"
     ]
    }
   ],
   "source": [
    "michael_mouse = Sales(\"michael\",'mouse','branding', 50000, \"themouse@thisknee.com\",'(555)555-5555')\n",
    "michael_mouse.send_follow_up_email(\"Donovan\", \"Duck\")\n",
    "print(\"========================================\")\n",
    "michael_mouse.send_follow_up_email(\"Mike\", \"O'Neil\")\n",
    "print(\"========================================\")\n",
    "michael_mouse.send_follow_up_email(\"hannah\", \"Stern\")\n",
    "print(\"========================================\")\n",
    "print(michael_mouse.give_raise())"
   ]
  },
  {
   "cell_type": "markdown",
   "metadata": {},
   "source": [
    "- Create an instance of a Development Employee with a salary of $100,000\n",
    "- Write some code with this employee\n",
    "- Give the employee a raise and print the salary"
   ]
  },
  {
   "cell_type": "code",
   "execution_count": 4,
   "metadata": {},
   "outputs": [
    {
     "name": "stdout",
     "output_type": "stream",
     "text": [
      "Helen Parr has written \"Hello World\"! Good job!\n",
      "========================================\n",
      "Good work, Helen Parr. You get a raise.\n",
      "New Salary: $105000.00\n"
     ]
    }
   ],
   "source": [
    "helen_parr = Development(\"helen\",'parr','Back end development', 100000, 'incredible@picter.com')\n",
    "# rlly making myself laugh here\n",
    "helen_parr.code()\n",
    "print(\"========================================\")\n",
    "print(helen_parr.give_raise())"
   ]
  },
  {
   "cell_type": "markdown",
   "metadata": {},
   "source": [
    "#### Exercise 2 - Importing Modules"
   ]
  },
  {
   "cell_type": "markdown",
   "metadata": {},
   "source": [
    "In VS Code, create a module titled `geometry` and add two functions in there. One that will calculate the area of a circle given a radius. The second will find the hypotenuse of a right angle given the two sides. Import the module or the functions from the module and use it to find the answers to the below questions"
   ]
  },
  {
   "cell_type": "markdown",
   "metadata": {},
   "source": [
    "What is the area of a circle with a radius of 7cm?"
   ]
  },
  {
   "cell_type": "code",
   "execution_count": 5,
   "metadata": {},
   "outputs": [],
   "source": [
    "import geometry as gm"
   ]
  },
  {
   "cell_type": "code",
   "execution_count": 6,
   "metadata": {},
   "outputs": [
    {
     "data": {
      "text/plain": [
       "153.93804002589985"
      ]
     },
     "execution_count": 6,
     "metadata": {},
     "output_type": "execute_result"
    }
   ],
   "source": [
    "gm.circle_area(7)"
   ]
  },
  {
   "cell_type": "markdown",
   "metadata": {},
   "source": [
    "What is the hypotenuse of a right angle with sides of 3in and 4in?"
   ]
  },
  {
   "cell_type": "code",
   "execution_count": 7,
   "metadata": {},
   "outputs": [
    {
     "data": {
      "text/plain": [
       "5.0"
      ]
     },
     "execution_count": 7,
     "metadata": {},
     "output_type": "execute_result"
    }
   ],
   "source": [
    "gm.hypotenuse(3,4)"
   ]
  },
  {
   "cell_type": "code",
   "execution_count": 8,
   "metadata": {},
   "outputs": [
    {
     "name": "stdout",
     "output_type": "stream",
     "text": [
      "#  #  #  #  #  #  #  #  #  \n",
      "#  #  #  #  #  #  #  #  #  \n",
      "#  #  #  #  #  #  #  #  #  \n",
      "#  #  #  #  #  #  #  #  #  \n",
      "#  #  #  #  #  #  #  #  #  \n",
      "#  #  #  #  #  #  #  #  #  \n",
      "#  #  #  #  #  #  #  #  #  \n",
      "#  #  #  #  #  #  #  #  #  \n",
      "#  #  #  #  #  #  #  #  #  \n",
      "\n",
      "#  #  #  \n",
      "#  #  #  \n",
      "#  #  #  \n",
      "\n",
      "#  #  #  #  #  \n",
      "#  #  #  #  #  \n",
      "#  #  #  #  #  \n",
      "#  #  #  #  #  \n",
      "#  #  #  #  #  \n"
     ]
    }
   ],
   "source": [
    "gm.draw_square(9)\n",
    "print(\"\")\n",
    "gm.draw_square(3)\n",
    "print(\"\")\n",
    "gm.draw_square(5)"
   ]
  }
 ],
 "metadata": {
  "kernelspec": {
   "display_name": "Python 3 (ipykernel)",
   "language": "python",
   "name": "python3"
  },
  "language_info": {
   "codemirror_mode": {
    "name": "ipython",
    "version": 3
   },
   "file_extension": ".py",
   "mimetype": "text/x-python",
   "name": "python",
   "nbconvert_exporter": "python",
   "pygments_lexer": "ipython3",
   "version": "3.9.12"
  }
 },
 "nbformat": 4,
 "nbformat_minor": 4
}
